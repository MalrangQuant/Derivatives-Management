{
 "cells": [
  {
   "cell_type": "markdown",
   "metadata": {},
   "source": [
    "# 과제2"
   ]
  },
  {
   "cell_type": "markdown",
   "metadata": {},
   "source": [
    "## 이선우(20223888)"
   ]
  },
  {
   "cell_type": "markdown",
   "metadata": {},
   "source": [
    "## Condition\n",
    "\n",
    "$\\$300000$ European Call Option > 100,000 shares of stock\n",
    "\n",
    "$S_0 = 49$ <br>\n",
    "$K = 50$ <br>\n",
    "$r = 5\\%$ <br>\n",
    "$\\sigma = 20\\%$ <br>\n",
    "$T = 20 weeks$ <br>\n",
    "$\\mu = 13\\%$"
   ]
  },
  {
   "cell_type": "markdown",
   "metadata": {},
   "source": [
    "## Code"
   ]
  },
  {
   "cell_type": "code",
   "execution_count": 313,
   "metadata": {},
   "outputs": [],
   "source": [
    "import numpy as np\n",
    "import pandas as pd\n",
    "import matplotlib.pyplot as plt\n",
    "\n",
    "from scipy.stats import norm\n",
    "from warnings import filterwarnings\n",
    "filterwarnings('ignore')"
   ]
  },
  {
   "cell_type": "code",
   "execution_count": 328,
   "metadata": {},
   "outputs": [
    {
     "data": {
      "text/plain": [
       "(array(0.79392481), array(0.36968339))"
      ]
     },
     "execution_count": 328,
     "metadata": {},
     "output_type": "execute_result"
    }
   ],
   "source": [
    "from scipy.stats import skewnorm as sn\n",
    "\n",
    "sn.stats(10)"
   ]
  },
  {
   "cell_type": "code",
   "execution_count": 314,
   "metadata": {},
   "outputs": [],
   "source": [
    "from scipy.stats import skewnorm as sn\n",
    "class delta_hedging:\n",
    "\n",
    "    def __init__(self, input):\n",
    " \n",
    "        self.s0         = input['s0']               # 현재가격\n",
    "        self.k          = input['k']                # 행사가격\n",
    "        self.rf         = input['rf']               # 무위험이자율\n",
    "        self.sigma      = input['sigma']            # 변동성\n",
    "        self.mu         = input['mu']               # 평균수익률\n",
    "        self.T          = input['T']                # 투자기간\n",
    "        self.q          = input['q']                # 배당금 \n",
    "        self.iv         = input['imvol']            # 내재변동성\n",
    "\n",
    "        self.interval   = input['interval']         # T의 기간 텀\n",
    "        self.time_step  = input['time_step']        # Investment Horizon\n",
    "        self.simul      = input['simul_num']        # 시뮬레이션 횟수\n",
    "        self.num_shares = input['num_shares']       # 종목 수\n",
    "\n",
    "        if self.interval == 'weekly':               \n",
    "            self.dt = self.T / 52                   \n",
    "        elif self.interval == 'daily':\n",
    "            self.dt = self.T / 255\n",
    "        \n",
    "        self.tau        = self.time_step * self.dt\n",
    "        self.tau_arr    = (np.flip(np.arange(0, self.time_step+1)) * self.dt).reshape(-1,1)\n",
    "\n",
    "    def bs_call(self, PutCall):\n",
    "        '''PutCall for 'c', 'p' '''\n",
    "        d1 = (np.log(self.s0/self.k) +((self.rf - self.q +0.5*np.power(self.sigma, 2))*self.tau))/(self.sigma*np.sqrt(self.tau))\n",
    "        d2 = d1 - self.sigma*np.sqrt(self.tau)\n",
    "        value = self.s0*norm.cdf(d1) - self.k*np.exp(-self.rf*self.tau)*norm.cdf(d2)\n",
    "        return value\n",
    "\n",
    "    def stock_path(self):\n",
    "\n",
    "        value = np.ones((2, self.simul)) * self.s0\n",
    "\n",
    "        for idx in range(1, self.T * self.time_step + 1):\n",
    "            d_term = (self.mu - self.q - 0.5 * self.sigma**2) * self.dt\n",
    "            #s_term = self.sigma * np.sqrt(self.dt) * np.random.normal(size=(self.simul))\n",
    "\n",
    "\n",
    "            sn\n",
    "            s_term = self.sigma * np.sqrt(self.dt) * np.random.normal(size=(self.simul))\n",
    "\n",
    "            value = np.vstack([value, value[-1] * np.exp(d_term + s_term)])\n",
    "            \n",
    "        value = value[1:]\n",
    "\n",
    "        return value\n",
    "\n",
    "\n",
    "    def d1_cal (self, s, k, r, q, vol, t):\n",
    "        return (np.log(s/k) +((r-q+0.5*np.power(vol, 2))*t))/(vol*np.sqrt(t))\n",
    "\n",
    "    def path_delta(self, stock_path=None):\n",
    "        \n",
    "        if stock_path is not None:\n",
    "            path = stock_path\n",
    "        else:\n",
    "            path = self.stock_path()\n",
    "\n",
    "        delta = norm.cdf(self.d1_cal(path, self.k, self.rf, self.q, self.iv, self.tau_arr))\n",
    "        \n",
    "        return delta\n",
    "\n",
    "    def path_changes (self, path_1):\n",
    "        '''calculate path's changes'''\n",
    "\n",
    "        return np.vstack([path_1[0], path_1[1:] - path_1[:-1]])\n",
    "        \n",
    "\n",
    "    def path_delta_shares(self, stock_path=None):\n",
    "        '''input stock path (stock price path)'''\n",
    "\n",
    "        if stock_path is not None:\n",
    "            path = self.path_delta(stock_path)\n",
    "        else:\n",
    "            stock_path = self.stock_path()\n",
    "            path = self.path_delta(stock_path)\n",
    "        \n",
    "        return path * self.num_shares\n",
    "\n",
    "    def path_delta_shares_cost (self, stock_path=None):\n",
    "        '''input stock path (stock price path)'''\n",
    "\n",
    "        if stock_path is not None:\n",
    "            path = self.path_delta_shares(stock_path)\n",
    "        else:\n",
    "            stock_path = self.stock_path()\n",
    "            path = self.path_delta_shares(stock_path)\n",
    "\n",
    "        return path * stock_path\n",
    "\n",
    "    def path_delta_hedged_cum (self, stock_path=None):\n",
    "\n",
    "        if stock_path is not None:\n",
    "            path = self.path_delta_shares_cost(stock_path)\n",
    "\n",
    "        else:\n",
    "            stock_path = self.stock_path()\n",
    "            path = self.path_delta_shares_cost(stock_path)\n",
    "\n",
    "        path_cost_ch = self.path_changes(path)\n",
    "\n",
    "        delta_path_cumcost = np.repeat(path_cost_ch[0], stock_path.shape[0]).reshape(-1, stock_path.shape[1])\n",
    "        upper = (1 + self.rf*1/52)\n",
    "\n",
    "        for x in range(0, stock_path.shape[1]):\n",
    "            for idx in range(stock_path[:,x].shape[0]-1):\n",
    "                delta_path_cumcost[idx+1, x] = np.round(delta_path_cumcost[idx,x] * upper + path_cost_ch[idx+1, x])\n",
    "\n",
    "        return delta_path_cumcost\n",
    "\n",
    "    def delta_hedging_int_cost (self, stock_path=None):\n",
    "\n",
    "        if stock_path is not None:\n",
    "            path = self.path_delta_hedged_cum(stock_path)\n",
    "        else:\n",
    "            stock_path = self.stock_path()\n",
    "            path = self.path_delta_hedged_cum(stock_path)\n",
    "\n",
    "        return path * (self.dt * self.rf)\n",
    "\n",
    "    def hedging_cost(self, stock_path=None):\n",
    "\n",
    "        if stock_path is not None:\n",
    "            delta = self.path_delta(stock_path)\n",
    "        else:\n",
    "            stock_path = self.stock_path()\n",
    "            delta = self.path_delta(stock_path)\n",
    "\n",
    "        path_arr = np.vstack([delta[0], (delta[1:] - delta[:-1])])\n",
    "        \n",
    "        hedge_arr = ((path_arr * stock_path) * np.exp(self.rf * self.tau_arr)).cumsum(axis=0)[-1]\n",
    "        hedge_arr = np.where(hedge_arr > self.k, hedge_arr - self.k, hedge_arr)\n",
    "\n",
    "        return hedge_arr\n",
    "\n",
    "    def hedge_PNL(self, stock_path=None):\n",
    "\n",
    "        if stock_path is not None:\n",
    "            int_cost = self.delta_hedging_int_cost(stock_path)\n",
    "            cum_cost = self.path_delta_hedged_cum(stock_path)\n",
    "\n",
    "        else:\n",
    "            stock_path = self.stock_path()\n",
    "            int_cost = self.delta_hedging_int_cost(stock_path)\n",
    "            cum_cost = self.path_delta_hedged_cum(stock_path)\n",
    "        \n",
    "\n"
   ]
  },
  {
   "cell_type": "code",
   "execution_count": 315,
   "metadata": {},
   "outputs": [],
   "source": [
    "dt = delta_hedging(inputs)"
   ]
  },
  {
   "cell_type": "code",
   "execution_count": 326,
   "metadata": {},
   "outputs": [
    {
     "data": {
      "text/plain": [
       "2.437462240993996"
      ]
     },
     "execution_count": 326,
     "metadata": {},
     "output_type": "execute_result"
    }
   ],
   "source": [
    "dt.hedging_cost().mean()"
   ]
  },
  {
   "cell_type": "markdown",
   "metadata": {},
   "source": [
    "## 이자비용이랑 cum cost 랑 활용해서 K 이용해서 뺀거 구하기"
   ]
  },
  {
   "cell_type": "code",
   "execution_count": 202,
   "metadata": {},
   "outputs": [
    {
     "data": {
      "text/plain": [
       "((21, 1000), (21, 1000))"
      ]
     },
     "execution_count": 202,
     "metadata": {},
     "output_type": "execute_result"
    }
   ],
   "source": [
    "dt.path_delta_hedged_cum(path).shape, dt.delta_hedging_int_cost(path).shape"
   ]
  },
  {
   "cell_type": "code",
   "execution_count": 277,
   "metadata": {},
   "outputs": [
    {
     "data": {
      "text/plain": [
       "0.36787944117144233"
      ]
     },
     "execution_count": 277,
     "metadata": {},
     "output_type": "execute_result"
    }
   ],
   "source": [
    "np.exp(-dt.rf * dt.time_step) "
   ]
  },
  {
   "cell_type": "code",
   "execution_count": 312,
   "metadata": {},
   "outputs": [
    {
     "data": {
      "text/plain": [
       "171217.64297898766"
      ]
     },
     "execution_count": 312,
     "metadata": {},
     "output_type": "execute_result"
    }
   ],
   "source": [
    "path = dt.stock_path()\n",
    "arr = np.c_[(dt.delta_hedging_int_cost(path).sum(axis=0) + dt.path_delta_hedged_cum(path)[-1]), path[-1]]\n",
    "np.exp(-dt.rf * dt.time_step) * (np.where(arr[:,1]>= dt.k, arr[:,0] - dt.k * dt.num_shares, arr[:,0])).mean()"
   ]
  },
  {
   "cell_type": "code",
   "execution_count": 216,
   "metadata": {},
   "outputs": [
    {
     "data": {
      "text/plain": [
       "5000000"
      ]
     },
     "execution_count": 216,
     "metadata": {},
     "output_type": "execute_result"
    }
   ],
   "source": [
    "dt.k * dt.num_shares"
   ]
  },
  {
   "cell_type": "code",
   "execution_count": 248,
   "metadata": {},
   "outputs": [
    {
     "data": {
      "text/plain": [
       "450585.9668992552"
      ]
     },
     "execution_count": 248,
     "metadata": {},
     "output_type": "execute_result"
    }
   ],
   "source": [
    "(np.where(arr[:,1]>= dt.k, arr[:,0] - dt.k * dt.num_shares, arr[:,0])).mean()"
   ]
  },
  {
   "cell_type": "code",
   "execution_count": 239,
   "metadata": {},
   "outputs": [
    {
     "data": {
      "text/plain": [
       "243890.42059138202"
      ]
     },
     "execution_count": 239,
     "metadata": {},
     "output_type": "execute_result"
    }
   ],
   "source": [
    "(dt.hedging_cost() * dt.num_shares).mean()"
   ]
  },
  {
   "cell_type": "code",
   "execution_count": 193,
   "metadata": {},
   "outputs": [
    {
     "data": {
      "text/html": [
       "<div>\n",
       "<style scoped>\n",
       "    .dataframe tbody tr th:only-of-type {\n",
       "        vertical-align: middle;\n",
       "    }\n",
       "\n",
       "    .dataframe tbody tr th {\n",
       "        vertical-align: top;\n",
       "    }\n",
       "\n",
       "    .dataframe thead th {\n",
       "        text-align: right;\n",
       "    }\n",
       "</style>\n",
       "<table border=\"1\" class=\"dataframe\">\n",
       "  <thead>\n",
       "    <tr style=\"text-align: right;\">\n",
       "      <th></th>\n",
       "      <th>0</th>\n",
       "      <th>1</th>\n",
       "    </tr>\n",
       "  </thead>\n",
       "  <tbody>\n",
       "    <tr>\n",
       "      <th>0</th>\n",
       "      <td>2.939264</td>\n",
       "      <td>58.036163</td>\n",
       "    </tr>\n",
       "    <tr>\n",
       "      <th>1</th>\n",
       "      <td>2.567156</td>\n",
       "      <td>42.757299</td>\n",
       "    </tr>\n",
       "    <tr>\n",
       "      <th>2</th>\n",
       "      <td>2.579886</td>\n",
       "      <td>53.964753</td>\n",
       "    </tr>\n",
       "    <tr>\n",
       "      <th>3</th>\n",
       "      <td>2.270073</td>\n",
       "      <td>54.625356</td>\n",
       "    </tr>\n",
       "    <tr>\n",
       "      <th>4</th>\n",
       "      <td>2.445431</td>\n",
       "      <td>49.879434</td>\n",
       "    </tr>\n",
       "    <tr>\n",
       "      <th>...</th>\n",
       "      <td>...</td>\n",
       "      <td>...</td>\n",
       "    </tr>\n",
       "    <tr>\n",
       "      <th>995</th>\n",
       "      <td>2.529085</td>\n",
       "      <td>41.125228</td>\n",
       "    </tr>\n",
       "    <tr>\n",
       "      <th>996</th>\n",
       "      <td>2.437486</td>\n",
       "      <td>56.731933</td>\n",
       "    </tr>\n",
       "    <tr>\n",
       "      <th>997</th>\n",
       "      <td>2.486854</td>\n",
       "      <td>49.672310</td>\n",
       "    </tr>\n",
       "    <tr>\n",
       "      <th>998</th>\n",
       "      <td>3.174027</td>\n",
       "      <td>51.158697</td>\n",
       "    </tr>\n",
       "    <tr>\n",
       "      <th>999</th>\n",
       "      <td>2.484567</td>\n",
       "      <td>46.570230</td>\n",
       "    </tr>\n",
       "  </tbody>\n",
       "</table>\n",
       "<p>1000 rows × 2 columns</p>\n",
       "</div>"
      ],
      "text/plain": [
       "            0          1\n",
       "0    2.939264  58.036163\n",
       "1    2.567156  42.757299\n",
       "2    2.579886  53.964753\n",
       "3    2.270073  54.625356\n",
       "4    2.445431  49.879434\n",
       "..        ...        ...\n",
       "995  2.529085  41.125228\n",
       "996  2.437486  56.731933\n",
       "997  2.486854  49.672310\n",
       "998  3.174027  51.158697\n",
       "999  2.484567  46.570230\n",
       "\n",
       "[1000 rows x 2 columns]"
      ]
     },
     "execution_count": 193,
     "metadata": {},
     "output_type": "execute_result"
    }
   ],
   "source": [
    "pd.DataFrame([dt.hedging_cost(path), path[-1]]).T"
   ]
  },
  {
   "cell_type": "code",
   "execution_count": null,
   "metadata": {},
   "outputs": [],
   "source": [
    "hedging_cost(path)"
   ]
  },
  {
   "cell_type": "code",
   "execution_count": 184,
   "metadata": {},
   "outputs": [],
   "source": [
    "'''Parameters'''\n",
    "inputs = {\n",
    "    's0' : 49,\n",
    "    'k' : 50,\n",
    "    'rf' : 0.05,\n",
    "    'sigma' : 0.2,\n",
    "    'imvol' : 0.2,\n",
    "    'T' : 1,\n",
    "    'mu' : 0.13,\n",
    "    'q' : 0,\n",
    "    'interval' : 'weekly',\n",
    "    'time_step' : 20,\n",
    "    'simul_num' : 1000,\n",
    "    'num_shares' : 100000\n",
    "}"
   ]
  },
  {
   "cell_type": "code",
   "execution_count": 185,
   "metadata": {},
   "outputs": [],
   "source": [
    "dt = delta_hedging(inputs)"
   ]
  },
  {
   "cell_type": "code",
   "execution_count": 186,
   "metadata": {},
   "outputs": [
    {
     "data": {
      "text/plain": [
       "array([[49.        , 49.        , 49.        , ..., 49.        ,\n",
       "        49.        , 49.        ],\n",
       "       [51.27704325, 49.28095414, 51.8607462 , ..., 49.98323189,\n",
       "        50.23783401, 46.21014462],\n",
       "       [48.59401232, 46.965551  , 50.05704968, ..., 53.08223869,\n",
       "        47.58922577, 46.53702934],\n",
       "       ...,\n",
       "       [58.59147547, 41.88005782, 54.75804858, ..., 48.49258926,\n",
       "        51.95254251, 47.71817078],\n",
       "       [57.07807341, 41.3519334 , 54.27724778, ..., 51.08548897,\n",
       "        52.28481861, 46.70925764],\n",
       "       [58.03616285, 42.75729855, 53.9647535 , ..., 49.67231033,\n",
       "        51.15869678, 46.57022977]])"
      ]
     },
     "execution_count": 186,
     "metadata": {},
     "output_type": "execute_result"
    }
   ],
   "source": [
    "path = dt.stock_path()\n",
    "path"
   ]
  },
  {
   "cell_type": "code",
   "execution_count": 188,
   "metadata": {},
   "outputs": [
    {
     "data": {
      "text/plain": [
       "array([[5.21604661e+04, 5.21604661e+04, 5.21604661e+04, ...,\n",
       "        5.21604661e+04, 5.21604661e+04, 5.21604661e+04],\n",
       "       [6.62822368e+04, 5.36550233e+04, 6.96306097e+04, ...,\n",
       "        5.82693990e+04, 5.99022295e+04, 3.29808846e+04],\n",
       "       [4.85452096e+04, 3.72155775e+04, 5.85355288e+04, ...,\n",
       "        7.62475726e+04, 4.15258491e+04, 3.43089614e+04],\n",
       "       ...,\n",
       "       [9.99980328e+04, 4.30496097e-01, 9.91487784e+04, ...,\n",
       "        2.38289443e+04, 8.52057365e+04, 1.30877175e+04],\n",
       "       [9.99999290e+04, 5.28410063e-07, 9.98685348e+04, ...,\n",
       "        7.94722618e+04, 9.51503179e+04, 8.06092023e+02],\n",
       "       [1.00000000e+05, 0.00000000e+00, 1.00000000e+05, ...,\n",
       "        0.00000000e+00, 1.00000000e+05, 0.00000000e+00]])"
      ]
     },
     "execution_count": 188,
     "metadata": {},
     "output_type": "execute_result"
    }
   ],
   "source": [
    "dt.path_delta_shares(path)"
   ]
  },
  {
   "cell_type": "code",
   "execution_count": 27,
   "metadata": {},
   "outputs": [
    {
     "data": {
      "text/plain": [
       "array([[2.55586284e+06, 2.55586284e+06, 2.55586284e+06, ...,\n",
       "        2.55586284e+06, 2.55586284e+06, 2.55586284e+06],\n",
       "       [3.88048652e+06, 2.34724303e+06, 2.99858952e+06, ...,\n",
       "        2.40870183e+06, 2.30989590e+06, 1.82297476e+06],\n",
       "       [4.70369209e+06, 2.32001862e+06, 2.85695288e+06, ...,\n",
       "        3.01608147e+06, 1.81384654e+06, 1.75972473e+06],\n",
       "       ...,\n",
       "       [5.30443940e+06, 9.19548874e+02, 1.20358912e+06, ...,\n",
       "        1.38563900e+05, 4.90504334e+06, 4.20855184e+02],\n",
       "       [5.43987668e+06, 4.67497168e-02, 2.06648871e+06, ...,\n",
       "        3.72111963e+02, 5.10823704e+06, 2.69825707e-03],\n",
       "       [5.32520719e+06, 0.00000000e+00, 0.00000000e+00, ...,\n",
       "        0.00000000e+00, 5.45308291e+06, 0.00000000e+00]])"
      ]
     },
     "execution_count": 27,
     "metadata": {},
     "output_type": "execute_result"
    }
   ],
   "source": [
    "dt.path_delta_shares_cost(path)"
   ]
  },
  {
   "cell_type": "code",
   "execution_count": 28,
   "metadata": {},
   "outputs": [
    {
     "data": {
      "text/plain": [
       "array([[2555.9, 2555.9, 2555.9, ..., 2555.9, 2555.9, 2555.9],\n",
       "       [3882.9, 2349.7, 3001. , ..., 2411.2, 2312.4, 1825.4],\n",
       "       [4709.9, 2324.7, 2862.3, ..., 3020.9, 1818.5, 1763.9],\n",
       "       ...,\n",
       "       [5386.1,   26.1, 1271.3, ...,  203.1, 4932.2,   18.9],\n",
       "       [5526.7,   25.2, 2135.4, ...,   65.1, 5140.2,   18.5],\n",
       "       [5417.3,   25.2,   71. , ...,   64.8, 5490. ,   18.6]])"
      ]
     },
     "execution_count": 28,
     "metadata": {},
     "output_type": "execute_result"
    }
   ],
   "source": [
    "np.round((dt.path_delta_hedged_cum(path) / 1000),1)"
   ]
  },
  {
   "cell_type": "code",
   "execution_count": 167,
   "metadata": {},
   "outputs": [
    {
     "data": {
      "text/plain": [
       "array([[2.5, 2.5, 2.5, ..., 2.5, 2.5, 2.5],\n",
       "       [3.7, 2.3, 2.9, ..., 2.3, 2.2, 1.8],\n",
       "       [4.5, 2.2, 2.8, ..., 2.9, 1.7, 1.7],\n",
       "       ...,\n",
       "       [5.2, 0. , 1.2, ..., 0.2, 4.7, 0. ],\n",
       "       [5.3, 0. , 2.1, ..., 0.1, 4.9, 0. ],\n",
       "       [5.2, 0. , 0.1, ..., 0.1, 5.3, 0. ]])"
      ]
     },
     "execution_count": 167,
     "metadata": {},
     "output_type": "execute_result"
    }
   ],
   "source": [
    "np.round((dt.delta_hedging_int_cost(path) / 1000),1)"
   ]
  },
  {
   "cell_type": "code",
   "execution_count": 4,
   "metadata": {},
   "outputs": [
    {
     "data": {
      "image/png": "[encoded data removed]",
      "text/plain": [
       "<Figure size 640x480 with 1 Axes>"
      ]
     },
     "metadata": {},
     "output_type": "display_data"
    }
   ],
   "source": [
    "rv_arr = np.array([0.16, 0.18, 0.20, 0.22, 0.24])\n",
    "\n",
    "stock_path_data = []\n",
    "delta_path_data = []\n",
    "dt_hedging_data = []\n",
    "dt_hedging_cost = []\n",
    "dt_hedging_cost_mean = []\n",
    "dt_hedging_cost_std = []\n",
    "\n",
    "for rv in rv_arr:\n",
    "    inputs['sigma'] = rv\n",
    "\n",
    "    stock_path_data.append(delta_hedging(inputs).stock_path())\n",
    "    delta_path_data.append(delta_hedging(inputs).path_delta())\n",
    "    dt_hedging_data.append(delta_hedging(inputs).hedging_cost())\n",
    "    dt_hedging_cost_mean.append(delta_hedging(inputs).hedging_cost().mean())\n",
    "    dt_hedging_cost_std.append(delta_hedging(inputs).hedging_cost().std())\n",
    "    \n",
    "df = pd.DataFrame(data=[stock_path_data, delta_path_data, dt_hedging_data, dt_hedging_cost_mean, dt_hedging_cost_std],\\\n",
    "                  index=['stock_path_data', 'delta_path_data', 'dt_hedging_data', 'mean', 'std'],\\\n",
    "                  columns=rv_arr).T\n",
    "\n",
    "plt.title('Hedging Cost by Realized Volatility')\n",
    "plt.scatter(0.2, df.loc[0.2]['mean'], c='r', label='Real Vol=20%, Implied Vol=20%')\n",
    "plt.plot(df['mean'])\n",
    "plt.xlabel('Realized Volatility')\n",
    "plt.ylabel('Delta Hedging Cost(Mean)')\n",
    "plt.legend()\n",
    "plt.show()"
   ]
  },
  {
   "cell_type": "code",
   "execution_count": 5,
   "metadata": {},
   "outputs": [
    {
     "name": "stderr",
     "output_type": "stream",
     "text": [
      "100%|██████████| 1000/1000 [00:06<00:00, 156.45it/s]\n"
     ]
    },
    {
     "data": {
      "image/png": "[encoded data removed]",
      "text/plain": [
       "<Figure size 640x480 with 1 Axes>"
      ]
     },
     "metadata": {},
     "output_type": "display_data"
    }
   ],
   "source": [
    "from tqdm import tqdm\n",
    "\n",
    "rv_arr = np.arange(0, 1, 0.001)\n",
    "\n",
    "stock_path_data = []\n",
    "delta_path_data = []\n",
    "dt_hedging_data = []\n",
    "dt_hedging_cost = []\n",
    "dt_hedging_cost_mean = []\n",
    "dt_hedging_cost_std = []\n",
    "\n",
    "for rv in tqdm(rv_arr):\n",
    "    inputs['sigma'] = rv\n",
    "\n",
    "    stock_path_data.append(delta_hedging(inputs).stock_path())\n",
    "    delta_path_data.append(delta_hedging(inputs).path_delta())\n",
    "    dt_hedging_data.append(delta_hedging(inputs).hedging_cost())\n",
    "    dt_hedging_cost_mean.append(delta_hedging(inputs).hedging_cost().mean())\n",
    "    dt_hedging_cost_std.append(delta_hedging(inputs).hedging_cost().std())\n",
    "    \n",
    "df = pd.DataFrame(data=[stock_path_data, delta_path_data, dt_hedging_data, dt_hedging_cost_mean, dt_hedging_cost_std],\\\n",
    "                  index=['stock_path_data', 'delta_path_data', 'dt_hedging_data', 'mean', 'std'],\\\n",
    "                  columns=rv_arr).T\n",
    "\n",
    "plt.plot(df['mean'])\n",
    "plt.show()"
   ]
  }
 ],
 "metadata": {
  "kernelspec": {
   "display_name": "Python 3.8.13 ('quant')",
   "language": "python",
   "name": "python3"
  },
  "language_info": {
   "codemirror_mode": {
    "name": "ipython",
    "version": 3
   },
   "file_extension": ".py",
   "mimetype": "text/x-python",
   "name": "python",
   "nbconvert_exporter": "python",
   "pygments_lexer": "ipython3",
   "version": "3.8.13"
  },
  "orig_nbformat": 4,
  "vscode": {
   "interpreter": {
    "hash": "e7b6214bfe3ce19b2336b5ee82fe9739f68968628bd5eb86b17deae08d37c2fd"
   }
  }
 },
 "nbformat": 4,
 "nbformat_minor": 2
}
